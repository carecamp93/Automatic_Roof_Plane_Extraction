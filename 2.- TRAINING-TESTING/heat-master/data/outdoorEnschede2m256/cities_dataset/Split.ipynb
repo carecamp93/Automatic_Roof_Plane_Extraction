{
 "cells": [
  {
   "cell_type": "code",
   "execution_count": 1,
   "id": "dafef84f-d3c8-4083-9630-81677eb0e238",
   "metadata": {},
   "outputs": [],
   "source": [
    "import numpy as np\n",
    "import random"
   ]
  },
  {
   "cell_type": "code",
   "execution_count": 2,
   "id": "aae19f47-a491-4666-a640-cb7beb93d13e",
   "metadata": {},
   "outputs": [],
   "source": [
    "# Load the list of numbers from the txt file\n",
    "numbers = np.loadtxt('all_list.txt')"
   ]
  },
  {
   "cell_type": "code",
   "execution_count": 3,
   "id": "033756ed-d876-4d15-a485-4d282e6b5ac5",
   "metadata": {},
   "outputs": [],
   "source": [
    "# Determine the length of the list and calculate the 70% threshold\n",
    "list_len = len(numbers)\n",
    "threshold = int(list_len * 0.8)\n",
    "\n",
    "# Randomly select 80% of the numbers from the list\n",
    "selected_numbers = random.sample(list(numbers), threshold)\n",
    "\n",
    "# Create a list of the remaining 20% of the numbers\n",
    "remaining_numbers = list(set(numbers) - set(selected_numbers))"
   ]
  },
  {
   "cell_type": "code",
   "execution_count": 4,
   "id": "4523f78c-9668-4eac-bcb1-a94eb5912ed2",
   "metadata": {},
   "outputs": [],
   "source": [
    "# Save the selected numbers to a txt file\n",
    "np.savetxt('train_list.txt', selected_numbers, fmt='%d')\n",
    "\n",
    "# Save the remaining numbers to a txt file\n",
    "np.savetxt('valid_list.txt', remaining_numbers, fmt='%d')"
   ]
  },
  {
   "cell_type": "code",
   "execution_count": null,
   "id": "1410bfa6-3471-46ce-917b-433661da8325",
   "metadata": {},
   "outputs": [],
   "source": []
  }
 ],
 "metadata": {
  "kernelspec": {
   "display_name": "Python",
   "language": "python",
   "name": "python3"
  },
  "language_info": {
   "codemirror_mode": {
    "name": "ipython",
    "version": 3
   },
   "file_extension": ".py",
   "mimetype": "text/x-python",
   "name": "python",
   "nbconvert_exporter": "python",
   "pygments_lexer": "ipython3",
   "version": "3.8.10"
  }
 },
 "nbformat": 4,
 "nbformat_minor": 5
}
